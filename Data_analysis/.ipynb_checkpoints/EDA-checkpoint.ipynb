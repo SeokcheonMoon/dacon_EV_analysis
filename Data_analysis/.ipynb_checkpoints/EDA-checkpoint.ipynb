{
 "cells": [
  {
   "cell_type": "code",
   "execution_count": 1,
   "id": "b7b7a9da-7209-4b7e-bbd1-c585da2a6f54",
   "metadata": {},
   "outputs": [],
   "source": [
    "import pandas as pd\n",
    "import seaborn as sns\n",
    "import numpy as np\n",
    "import matplotlib.pyplot as plt\n",
    "import matplotlib as mpl\n",
    "# mpl.rc('font', family='NanumBarunGothic') # 혹은 다른 설치한 Nanum 폰트 사용 - 리눅스 사용할때\n",
    "import scipy\n",
    "import scipy.stats as stats\n",
    "\n",
    "import os\n",
    "import re\n",
    "import time\n",
    "import datetime as dt # 사용시 datetime.dt 로 사용 # 현재 시간 사용\n",
    "from datetime import datetime # 사용시 함수로 바로 사용 #-> 시간 비교"
   ]
  },
  {
   "cell_type": "code",
   "execution_count": 2,
   "id": "ef017416-d481-4553-8e22-57eb15f5cd3a",
   "metadata": {},
   "outputs": [],
   "source": [
    "### 한글 폰트 설치 - 윈도우 사용할 때\n",
    "import matplotlib.pyplot as plt\n",
    "from matplotlib import font_manager, rc\n",
    "import platform\n",
    "\n",
    "path = 'c:/Windows/Fonts/malgun.ttf'  # 또는 나눔고딕: 'c:/Windows/Fonts/NanumGothic.ttf'\n",
    "font_name = font_manager.FontProperties(fname=path).get_name()\n",
    "rc('font', family=font_name)"
   ]
  },
  {
   "cell_type": "code",
   "execution_count": 3,
   "id": "930ee099-d76a-41ec-9bc4-c4c009231efb",
   "metadata": {},
   "outputs": [],
   "source": [
    "# 경고창 무시\n",
    "import warnings\n",
    "warnings.filterwarnings('ignore')"
   ]
  },
  {
   "cell_type": "markdown",
   "id": "26ae5a71-0054-456b-b87a-86e85fb4d7b3",
   "metadata": {},
   "source": [
    "## 데이터 불러오기"
   ]
  },
  {
   "cell_type": "code",
   "execution_count": 4,
   "id": "e4717d1e-5a2b-4d83-8dee-399a1a581fbd",
   "metadata": {},
   "outputs": [],
   "source": [
    "df_sample = pd.read_csv(\"../datasets/sample_submission.csv\")\n",
    "df_train = pd.read_csv(\"../datasets/train.csv\")\n",
    "df_test = pd.read_csv(\"../datasets/test.csv\")"
   ]
  },
  {
   "cell_type": "code",
   "execution_count": 5,
   "id": "8ea5679a-412b-4211-8182-39a43936617c",
   "metadata": {},
   "outputs": [
    {
     "data": {
      "text/html": [
       "<div>\n",
       "<style scoped>\n",
       "    .dataframe tbody tr th:only-of-type {\n",
       "        vertical-align: middle;\n",
       "    }\n",
       "\n",
       "    .dataframe tbody tr th {\n",
       "        vertical-align: top;\n",
       "    }\n",
       "\n",
       "    .dataframe thead th {\n",
       "        text-align: right;\n",
       "    }\n",
       "</style>\n",
       "<table border=\"1\" class=\"dataframe\">\n",
       "  <thead>\n",
       "    <tr style=\"text-align: right;\">\n",
       "      <th></th>\n",
       "      <th>ID</th>\n",
       "      <th>제조사</th>\n",
       "      <th>모델</th>\n",
       "      <th>차량상태</th>\n",
       "      <th>배터리용량</th>\n",
       "      <th>구동방식</th>\n",
       "      <th>주행거리(km)</th>\n",
       "      <th>보증기간(년)</th>\n",
       "      <th>사고이력</th>\n",
       "      <th>연식(년)</th>\n",
       "      <th>가격(백만원)</th>\n",
       "    </tr>\n",
       "  </thead>\n",
       "  <tbody>\n",
       "    <tr>\n",
       "      <th>0</th>\n",
       "      <td>TRAIN_0000</td>\n",
       "      <td>P사</td>\n",
       "      <td>TayGTS</td>\n",
       "      <td>Nearly New</td>\n",
       "      <td>86.077</td>\n",
       "      <td>AWD</td>\n",
       "      <td>13642</td>\n",
       "      <td>0</td>\n",
       "      <td>No</td>\n",
       "      <td>2</td>\n",
       "      <td>159.66</td>\n",
       "    </tr>\n",
       "    <tr>\n",
       "      <th>1</th>\n",
       "      <td>TRAIN_0001</td>\n",
       "      <td>K사</td>\n",
       "      <td>Niro</td>\n",
       "      <td>Nearly New</td>\n",
       "      <td>56.000</td>\n",
       "      <td>FWD</td>\n",
       "      <td>10199</td>\n",
       "      <td>6</td>\n",
       "      <td>No</td>\n",
       "      <td>0</td>\n",
       "      <td>28.01</td>\n",
       "    </tr>\n",
       "    <tr>\n",
       "      <th>2</th>\n",
       "      <td>TRAIN_0002</td>\n",
       "      <td>A사</td>\n",
       "      <td>eT</td>\n",
       "      <td>Brand New</td>\n",
       "      <td>91.200</td>\n",
       "      <td>AWD</td>\n",
       "      <td>2361</td>\n",
       "      <td>7</td>\n",
       "      <td>No</td>\n",
       "      <td>0</td>\n",
       "      <td>66.27</td>\n",
       "    </tr>\n",
       "    <tr>\n",
       "      <th>3</th>\n",
       "      <td>TRAIN_0003</td>\n",
       "      <td>A사</td>\n",
       "      <td>RSeTGT</td>\n",
       "      <td>Nearly New</td>\n",
       "      <td>NaN</td>\n",
       "      <td>AWD</td>\n",
       "      <td>21683</td>\n",
       "      <td>3</td>\n",
       "      <td>No</td>\n",
       "      <td>0</td>\n",
       "      <td>99.16</td>\n",
       "    </tr>\n",
       "    <tr>\n",
       "      <th>4</th>\n",
       "      <td>TRAIN_0004</td>\n",
       "      <td>B사</td>\n",
       "      <td>i5</td>\n",
       "      <td>Pre-Owned</td>\n",
       "      <td>61.018</td>\n",
       "      <td>AWD</td>\n",
       "      <td>178205</td>\n",
       "      <td>1</td>\n",
       "      <td>No</td>\n",
       "      <td>0</td>\n",
       "      <td>62.02</td>\n",
       "    </tr>\n",
       "  </tbody>\n",
       "</table>\n",
       "</div>"
      ],
      "text/plain": [
       "           ID 제조사      모델        차량상태   배터리용량 구동방식  주행거리(km)  보증기간(년) 사고이력  \\\n",
       "0  TRAIN_0000  P사  TayGTS  Nearly New  86.077  AWD     13642        0   No   \n",
       "1  TRAIN_0001  K사    Niro  Nearly New  56.000  FWD     10199        6   No   \n",
       "2  TRAIN_0002  A사      eT   Brand New  91.200  AWD      2361        7   No   \n",
       "3  TRAIN_0003  A사  RSeTGT  Nearly New     NaN  AWD     21683        3   No   \n",
       "4  TRAIN_0004  B사      i5   Pre-Owned  61.018  AWD    178205        1   No   \n",
       "\n",
       "   연식(년)  가격(백만원)  \n",
       "0      2   159.66  \n",
       "1      0    28.01  \n",
       "2      0    66.27  \n",
       "3      0    99.16  \n",
       "4      0    62.02  "
      ]
     },
     "execution_count": 5,
     "metadata": {},
     "output_type": "execute_result"
    }
   ],
   "source": [
    "df_train.head(5)"
   ]
  },
  {
   "cell_type": "code",
   "execution_count": 6,
   "id": "6d4a100b-f878-41b1-bd75-12cd42fd3240",
   "metadata": {},
   "outputs": [
    {
     "name": "stdout",
     "output_type": "stream",
     "text": [
      "<class 'pandas.core.frame.DataFrame'>\n",
      "RangeIndex: 7497 entries, 0 to 7496\n",
      "Data columns (total 11 columns):\n",
      " #   Column    Non-Null Count  Dtype  \n",
      "---  ------    --------------  -----  \n",
      " 0   ID        7497 non-null   object \n",
      " 1   제조사       7497 non-null   object \n",
      " 2   모델        7497 non-null   object \n",
      " 3   차량상태      7497 non-null   object \n",
      " 4   배터리용량     4786 non-null   float64\n",
      " 5   구동방식      7497 non-null   object \n",
      " 6   주행거리(km)  7497 non-null   int64  \n",
      " 7   보증기간(년)   7497 non-null   int64  \n",
      " 8   사고이력      7497 non-null   object \n",
      " 9   연식(년)     7497 non-null   int64  \n",
      " 10  가격(백만원)   7497 non-null   float64\n",
      "dtypes: float64(2), int64(3), object(6)\n",
      "memory usage: 644.4+ KB\n"
     ]
    }
   ],
   "source": [
    "df_train.info()"
   ]
  },
  {
   "cell_type": "code",
   "execution_count": 7,
   "id": "a6a9bce3-8750-4df3-b655-be521b06705e",
   "metadata": {
    "scrolled": true
   },
   "outputs": [
    {
     "data": {
      "text/html": [
       "<div>\n",
       "<style scoped>\n",
       "    .dataframe tbody tr th:only-of-type {\n",
       "        vertical-align: middle;\n",
       "    }\n",
       "\n",
       "    .dataframe tbody tr th {\n",
       "        vertical-align: top;\n",
       "    }\n",
       "\n",
       "    .dataframe thead th {\n",
       "        text-align: right;\n",
       "    }\n",
       "</style>\n",
       "<table border=\"1\" class=\"dataframe\">\n",
       "  <thead>\n",
       "    <tr style=\"text-align: right;\">\n",
       "      <th></th>\n",
       "      <th>배터리용량</th>\n",
       "      <th>주행거리(km)</th>\n",
       "      <th>보증기간(년)</th>\n",
       "      <th>연식(년)</th>\n",
       "      <th>가격(백만원)</th>\n",
       "    </tr>\n",
       "  </thead>\n",
       "  <tbody>\n",
       "    <tr>\n",
       "      <th>count</th>\n",
       "      <td>4786.000000</td>\n",
       "      <td>7497.000000</td>\n",
       "      <td>7497.000000</td>\n",
       "      <td>7497.000000</td>\n",
       "      <td>7497.000000</td>\n",
       "    </tr>\n",
       "    <tr>\n",
       "      <th>mean</th>\n",
       "      <td>69.397187</td>\n",
       "      <td>44287.979458</td>\n",
       "      <td>4.960918</td>\n",
       "      <td>0.222489</td>\n",
       "      <td>62.331949</td>\n",
       "    </tr>\n",
       "    <tr>\n",
       "      <th>std</th>\n",
       "      <td>15.283635</td>\n",
       "      <td>55204.064386</td>\n",
       "      <td>3.155342</td>\n",
       "      <td>0.569232</td>\n",
       "      <td>36.646759</td>\n",
       "    </tr>\n",
       "    <tr>\n",
       "      <th>min</th>\n",
       "      <td>46.000000</td>\n",
       "      <td>3.000000</td>\n",
       "      <td>0.000000</td>\n",
       "      <td>0.000000</td>\n",
       "      <td>9.000000</td>\n",
       "    </tr>\n",
       "    <tr>\n",
       "      <th>25%</th>\n",
       "      <td>56.359000</td>\n",
       "      <td>5465.000000</td>\n",
       "      <td>2.000000</td>\n",
       "      <td>0.000000</td>\n",
       "      <td>34.390000</td>\n",
       "    </tr>\n",
       "    <tr>\n",
       "      <th>50%</th>\n",
       "      <td>68.125000</td>\n",
       "      <td>17331.000000</td>\n",
       "      <td>5.000000</td>\n",
       "      <td>0.000000</td>\n",
       "      <td>56.000000</td>\n",
       "    </tr>\n",
       "    <tr>\n",
       "      <th>75%</th>\n",
       "      <td>78.227000</td>\n",
       "      <td>61252.000000</td>\n",
       "      <td>8.000000</td>\n",
       "      <td>0.000000</td>\n",
       "      <td>80.050000</td>\n",
       "    </tr>\n",
       "    <tr>\n",
       "      <th>max</th>\n",
       "      <td>99.800000</td>\n",
       "      <td>199827.000000</td>\n",
       "      <td>10.000000</td>\n",
       "      <td>2.000000</td>\n",
       "      <td>161.090000</td>\n",
       "    </tr>\n",
       "  </tbody>\n",
       "</table>\n",
       "</div>"
      ],
      "text/plain": [
       "             배터리용량       주행거리(km)      보증기간(년)        연식(년)      가격(백만원)\n",
       "count  4786.000000    7497.000000  7497.000000  7497.000000  7497.000000\n",
       "mean     69.397187   44287.979458     4.960918     0.222489    62.331949\n",
       "std      15.283635   55204.064386     3.155342     0.569232    36.646759\n",
       "min      46.000000       3.000000     0.000000     0.000000     9.000000\n",
       "25%      56.359000    5465.000000     2.000000     0.000000    34.390000\n",
       "50%      68.125000   17331.000000     5.000000     0.000000    56.000000\n",
       "75%      78.227000   61252.000000     8.000000     0.000000    80.050000\n",
       "max      99.800000  199827.000000    10.000000     2.000000   161.090000"
      ]
     },
     "execution_count": 7,
     "metadata": {},
     "output_type": "execute_result"
    }
   ],
   "source": [
    "df_train.describe()"
   ]
  },
  {
   "cell_type": "code",
   "execution_count": 8,
   "id": "f4bbe0d3-36ec-4870-b364-fc53a49c73be",
   "metadata": {},
   "outputs": [
    {
     "data": {
      "text/plain": [
       "ID             0\n",
       "제조사            0\n",
       "모델             0\n",
       "차량상태           0\n",
       "배터리용량       2711\n",
       "구동방식           0\n",
       "주행거리(km)       0\n",
       "보증기간(년)        0\n",
       "사고이력           0\n",
       "연식(년)          0\n",
       "가격(백만원)        0\n",
       "dtype: int64"
      ]
     },
     "execution_count": 8,
     "metadata": {},
     "output_type": "execute_result"
    }
   ],
   "source": [
    "df_train.isnull().sum()"
   ]
  },
  {
   "cell_type": "markdown",
   "id": "6107d450-818e-4f76-b57f-ec44e34a620c",
   "metadata": {},
   "source": [
    "### 데이터 시각화"
   ]
  },
  {
   "cell_type": "code",
   "execution_count": 19,
   "id": "e4f61dc6-e5fd-4864-940a-a5e9af00fc36",
   "metadata": {},
   "outputs": [
    {
     "data": {
      "text/plain": [
       "Text(0.5, 1.0, '제조사별 자동차 가격분포')"
      ]
     },
     "execution_count": 19,
     "metadata": {},
     "output_type": "execute_result"
    },
    {
     "data": {
      "image/png": "[encoded data removed]",
      "text/plain": [
       "<Figure size 640x480 with 1 Axes>"
      ]
     },
     "metadata": {},
     "output_type": "display_data"
    }
   ],
   "source": [
    "sns.boxplot(x=\"제조사\", y=\"가격(백만원)\", data=df_train, hue=\"제조사\")\n",
    "plt.title(\"제조사별 자동차 가격분포\")"
   ]
  },
  {
   "cell_type": "code",
   "execution_count": 18,
   "id": "7709b378-64b0-4685-b74f-2b80cd203b89",
   "metadata": {},
   "outputs": [
    {
     "data": {
      "text/plain": [
       "Text(0.5, 1.0, '구동방식별 자동차 가격분포')"
      ]
     },
     "execution_count": 18,
     "metadata": {},
     "output_type": "execute_result"
    },
    {
     "data": {
      "image/png": "[encoded data removed]",
      "text/plain": [
       "<Figure size 640x480 with 1 Axes>"
      ]
     },
     "metadata": {},
     "output_type": "display_data"
    }
   ],
   "source": [
    "sns.boxplot(x=\"구동방식\", y=\"가격(백만원)\", data=df_train, hue=\"구동방식\")\n",
    "plt.title(\"구동방식별 자동차 가격분포\")"
   ]
  },
  {
   "cell_type": "code",
   "execution_count": 20,
   "id": "e2c61e40-8604-49c8-af60-546256c66603",
   "metadata": {},
   "outputs": [
    {
     "data": {
      "text/plain": [
       "Text(0.5, 1.0, '차량상태별 자동차 가격분포')"
      ]
     },
     "execution_count": 20,
     "metadata": {},
     "output_type": "execute_result"
    },
    {
     "data": {
      "image/png": "[encoded data removed]",
      "text/plain": [
       "<Figure size 640x480 with 1 Axes>"
      ]
     },
     "metadata": {},
     "output_type": "display_data"
    }
   ],
   "source": [
    "sns.boxplot(x=\"차량상태\", y=\"가격(백만원)\", data=df_train, hue=\"차량상태\")\n",
    "plt.title(\"차량상태별 자동차 가격분포\")"
   ]
  },
  {
   "cell_type": "code",
   "execution_count": 21,
   "id": "9bbdf2e3-8b2c-437a-9b3f-7c3051798ade",
   "metadata": {},
   "outputs": [
    {
     "data": {
      "text/plain": [
       "Text(0.5, 1.0, '사고이력별 자동차 가격분포')"
      ]
     },
     "execution_count": 21,
     "metadata": {},
     "output_type": "execute_result"
    },
    {
     "data": {
      "image/png": "[encoded data removed]",
      "text/plain": [
       "<Figure size 640x480 with 1 Axes>"
      ]
     },
     "metadata": {},
     "output_type": "display_data"
    }
   ],
   "source": [
    "sns.boxplot(x=\"사고이력\", y=\"가격(백만원)\", data=df_train, hue=\"사고이력\")\n",
    "plt.title(\"사고이력별 자동차 가격분포\")"
   ]
  },
  {
   "cell_type": "code",
   "execution_count": 31,
   "id": "8d977f88-af61-4393-bcd4-3f25bc8eaa0f",
   "metadata": {},
   "outputs": [
    {
     "data": {
      "text/plain": [
       "Text(0.5, 1.0, '전체 자동차 가격분포')"
      ]
     },
     "execution_count": 31,
     "metadata": {},
     "output_type": "execute_result"
    },
    {
     "data": {
      "image/png": "[encoded data removed]",
      "text/plain": [
       "<Figure size 640x480 with 1 Axes>"
      ]
     },
     "metadata": {},
     "output_type": "display_data"
    }
   ],
   "source": [
    "sns.boxplot( y=\"가격(백만원)\", data=df_train)\n",
    "plt.title(\"전체 자동차 가격분포\")"
   ]
  },
  {
   "cell_type": "markdown",
   "id": "68f89b3a-eb06-4f1b-9b3b-7ebe1a8fd1e5",
   "metadata": {},
   "source": [
    "### 분석 보고서"
   ]
  },
  {
   "cell_type": "markdown",
   "id": "6311dbbd-9b7a-405c-a7de-3868b8d28643",
   "metadata": {},
   "source": [
    "#### 가격과 범주형 컬럼 비교\n",
    "\n",
    "1. 제조사\n",
    "   - 제조사에 따른 가격 분포가 다른 것을 발견할 수 있음. 연관성이 있어보임.\n",
    "2. 구동방식\n",
    "   - AWD 구동방식의 차량이 가장 다양한 분포의 가격을 형성. 연관성이 있어보임.\n",
    "3. 차량상태\n",
    "   - 차량상태는 전체적으로 비슷한 가격을 보임. 연관성이 없어보이지만 차종과 연식에 영향이 있을것이라 판단되어 무의미함.\n",
    "4. 사고이력\n",
    "    - 사고이력의 유무와 달리 가격은 큰차이를 보이지 않음. 연관성이 없어보임.\n",
    "\n",
    "=> 통계 기법을 활용하여 연관성 파악"
   ]
  }
 ],
 "metadata": {
  "kernelspec": {
   "display_name": "Python 3 (ipykernel)",
   "language": "python",
   "name": "python3"
  },
  "language_info": {
   "codemirror_mode": {
    "name": "ipython",
    "version": 3
   },
   "file_extension": ".py",
   "mimetype": "text/x-python",
   "name": "python",
   "nbconvert_exporter": "python",
   "pygments_lexer": "ipython3",
   "version": "3.11.6"
  }
 },
 "nbformat": 4,
 "nbformat_minor": 5
}
